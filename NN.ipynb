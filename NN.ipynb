{
 "cells": [
  {
   "cell_type": "code",
   "execution_count": 1,
   "metadata": {},
   "outputs": [],
   "source": [
    "import numpy as np"
   ]
  },
  {
   "cell_type": "code",
   "execution_count": 2,
   "metadata": {},
   "outputs": [],
   "source": [
    "X = np.array([[0,0,1]\n",
    "              ,[0,1,1]\n",
    "              ,[1,0,1]\n",
    "              ,[1,1,1]])  "
   ]
  },
  {
   "cell_type": "code",
   "execution_count": 3,
   "metadata": {},
   "outputs": [],
   "source": [
    "Y = np.array([[0]\n",
    "              ,[1]\n",
    "              ,[1]\n",
    "              ,[0]])"
   ]
  },
  {
   "cell_type": "code",
   "execution_count": 22,
   "metadata": {},
   "outputs": [],
   "source": [
    "np.random.seed(1)"
   ]
  },
  {
   "cell_type": "code",
   "execution_count": 49,
   "metadata": {},
   "outputs": [],
   "source": [
    "weight0 = 2*np.random.random((3,4)) -1\n",
    "weight1 = 2*np.random.random((4,1)) -1"
   ]
  },
  {
   "cell_type": "code",
   "execution_count": 50,
   "metadata": {},
   "outputs": [
    {
     "data": {
      "text/plain": [
       "array([[-0.10017573,  0.15677923, -0.18372639, -0.52594604],\n",
       "       [ 0.80675904,  0.14735897, -0.99425935,  0.23428983],\n",
       "       [-0.3467102 ,  0.0541162 ,  0.7718842 , -0.28546048]])"
      ]
     },
     "execution_count": 50,
     "metadata": {},
     "output_type": "execute_result"
    }
   ],
   "source": [
    "weight0"
   ]
  },
  {
   "cell_type": "code",
   "execution_count": 51,
   "metadata": {},
   "outputs": [
    {
     "data": {
      "text/plain": [
       "array([[ 0.8170703 ],\n",
       "       [ 0.24672023],\n",
       "       [-0.96835751],\n",
       "       [ 0.85887447]])"
      ]
     },
     "execution_count": 51,
     "metadata": {},
     "output_type": "execute_result"
    }
   ],
   "source": [
    "weight1"
   ]
  },
  {
   "cell_type": "code",
   "execution_count": 52,
   "metadata": {},
   "outputs": [],
   "source": [
    "def nonlin(x, deriv = False):\n",
    "    if(deriv == True):\n",
    "        return x*(1-x)\n",
    "    \n",
    "    return 1/(1+np.exp(-x))\n",
    "    "
   ]
  },
  {
   "cell_type": "code",
   "execution_count": 53,
   "metadata": {},
   "outputs": [
    {
     "name": "stdout",
     "output_type": "stream",
     "text": [
      "Error is 0.500264198627\n",
      "Error is 0.499972712178\n",
      "Error is 0.499901645113\n",
      "Error is 0.499839135083\n",
      "Error is 0.499775072013\n",
      "Error is 0.499709104557\n",
      "Error is 0.499641621182\n",
      "Error is 0.499573021966\n",
      "Error is 0.499503577743\n",
      "Error is 0.499433372937\n",
      "Error is 0.499362285638\n",
      "Error is 0.499289989594\n",
      "Error is 0.499215967021\n",
      "Error is 0.499139523961\n",
      "Error is 0.499059802399\n",
      "Error is 0.49897578544\n",
      "Error is 0.498886293303\n",
      "Error is 0.498789968708\n",
      "Error is 0.498685250508\n",
      "Error is 0.498570334244\n",
      "Error is 0.498443117779\n",
      "Error is 0.498301129316\n",
      "Error is 0.498141433999\n",
      "Error is 0.497960513871\n",
      "Error is 0.497754114168\n",
      "Error is 0.497517046794\n",
      "Error is 0.497242939186\n",
      "Error is 0.49692391389\n",
      "Error is 0.496550181046\n",
      "Error is 0.496109523409\n",
      "Error is 0.495586652676\n",
      "Error is 0.494962419157\n",
      "Error is 0.494212868508\n",
      "Error is 0.493308166306\n",
      "Error is 0.492211464155\n",
      "Error is 0.490877873189\n",
      "Error is 0.489253855189\n",
      "Error is 0.487277538556\n",
      "Error is 0.48488068026\n",
      "Error is 0.48199311313\n",
      "Error is 0.478550315359\n",
      "Error is 0.474503908716\n",
      "Error is 0.469833248291\n",
      "Error is 0.464554137081\n",
      "Error is 0.458719167699\n",
      "Error is 0.452404534857\n",
      "Error is 0.445680362663\n",
      "Error is 0.438563434565\n",
      "Error is 0.430950156821\n",
      "Error is 0.422526501395\n",
      "Error is 0.412667173995\n",
      "Error is 0.400393855483\n",
      "Error is 0.384539088836\n",
      "Error is 0.364240367636\n",
      "Error is 0.339646532622\n",
      "Error is 0.312262727816\n",
      "Error is 0.284376539587\n",
      "Error is 0.258010226467\n",
      "Error is 0.234326045656\n",
      "Error is 0.213680536728\n",
      "Error is 0.195942870263\n",
      "Error is 0.180772417374\n",
      "Error is 0.167780316909\n",
      "Error is 0.156603085574\n",
      "Error is 0.146927901919\n",
      "Error is 0.138495690442\n",
      "Error is 0.131095619034\n",
      "Error is 0.124557244116\n",
      "Error is 0.118742849229\n",
      "Error is 0.113540841332\n",
      "Error is 0.108860361217\n",
      "Error is 0.104626998667\n",
      "Error is 0.100779427272\n",
      "Error is 0.0972667734612\n",
      "Error is 0.0940465598035\n",
      "Error is 0.0910830931405\n",
      "Error is 0.0883461961263\n",
      "Error is 0.0858102039503\n",
      "Error is 0.083453166358\n",
      "Error is 0.0812562092355\n",
      "Error is 0.0792030208081\n",
      "Error is 0.0772794356732\n",
      "Error is 0.0754730960713\n",
      "Error is 0.0737731744812\n",
      "Error is 0.0721701451824\n",
      "Error is 0.070655595135\n",
      "Error is 0.0692220666083\n",
      "Error is 0.067862925578\n",
      "Error is 0.0665722511536\n",
      "Error is 0.0653447422522\n",
      "Error is 0.0641756384847\n",
      "Error is 0.0630606528126\n",
      "Error is 0.0619959139917\n",
      "Error is 0.0609779171959\n",
      "Error is 0.0600034814991\n",
      "Error is 0.059069713138\n",
      "Error is 0.0581739736584\n",
      "Error is 0.0573138522108\n",
      "Error is 0.0564871413768\n",
      "Error is 0.0556918160148\n"
     ]
    }
   ],
   "source": [
    "for j in range(10000):\n",
    "    layer0 = X\n",
    "    layer1 = nonlin(np.dot(layer0,weight0))\n",
    "    layer2 = nonlin(np.dot(layer1,weight1))\n",
    "#     print(layer1)\n",
    "#     print(layer2)\n",
    "    \n",
    "    layer2_error = (Y-layer2)\n",
    "    if(j%100 ==0):\n",
    "        print(\"Error is\", np.mean(abs(layer2_error)))\n",
    "    \n",
    "    layer2_delta = layer2_error*nonlin(layer2, deriv = True)\n",
    "    layer1_error = layer2_delta.dot(weight1.T)\n",
    "    layer1_delta = layer1_error*nonlin(layer1, deriv = True)\n",
    "    \n",
    "    weight1 += layer1.T.dot(layer2_delta)*.1\n",
    "    weight0 += layer0.T.dot(layer1_delta)*.1\n",
    "    "
   ]
  },
  {
   "cell_type": "code",
   "execution_count": 66,
   "metadata": {},
   "outputs": [],
   "source": [
    "X_test=[[1,1,1]]\n",
    "y = nonlin(np.dot(X_test, weight0))"
   ]
  },
  {
   "cell_type": "code",
   "execution_count": 67,
   "metadata": {},
   "outputs": [],
   "source": [
    "y_ans = nonlin(np.dot(y, weight1))"
   ]
  },
  {
   "cell_type": "code",
   "execution_count": 68,
   "metadata": {},
   "outputs": [
    {
     "data": {
      "text/plain": [
       "array([[ 0.05065746]])"
      ]
     },
     "execution_count": 68,
     "metadata": {},
     "output_type": "execute_result"
    }
   ],
   "source": [
    "y_ans"
   ]
  },
  {
   "cell_type": "code",
   "execution_count": null,
   "metadata": {},
   "outputs": [],
   "source": []
  }
 ],
 "metadata": {
  "kernelspec": {
   "display_name": "Python 3",
   "language": "python",
   "name": "python3"
  },
  "language_info": {
   "codemirror_mode": {
    "name": "ipython",
    "version": 3
   },
   "file_extension": ".py",
   "mimetype": "text/x-python",
   "name": "python",
   "nbconvert_exporter": "python",
   "pygments_lexer": "ipython3",
   "version": "3.6.1"
  }
 },
 "nbformat": 4,
 "nbformat_minor": 2
}
