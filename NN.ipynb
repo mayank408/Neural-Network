{
 "cells": [
  {
   "cell_type": "code",
   "execution_count": 135,
   "metadata": {},
   "outputs": [],
   "source": [
    "import numpy as np"
   ]
  },
  {
   "cell_type": "code",
   "execution_count": 136,
   "metadata": {},
   "outputs": [],
   "source": [
    "X = np.array([[0,0,1]\n",
    "              ,[0,1,1]\n",
    "              ,[1,0,1]\n",
    "              ,[1,1,1]])  "
   ]
  },
  {
   "cell_type": "code",
   "execution_count": 137,
   "metadata": {},
   "outputs": [],
   "source": [
    "Y = np.array([[0]\n",
    "              ,[1]\n",
    "              ,[1]\n",
    "              ,[0]])"
   ]
  },
  {
   "cell_type": "code",
   "execution_count": 138,
   "metadata": {},
   "outputs": [],
   "source": [
    "alphas = [0.001,0.01,0.1,1,10,100,1000]\n",
    "np.random.seed(1)"
   ]
  },
  {
   "cell_type": "code",
   "execution_count": 139,
   "metadata": {},
   "outputs": [],
   "source": [
    "weight0 = 2*np.random.random((3,4)) -1\n",
    "weight1 = 2*np.random.random((4,1)) -1"
   ]
  },
  {
   "cell_type": "code",
   "execution_count": 140,
   "metadata": {},
   "outputs": [
    {
     "data": {
      "text/plain": [
       "array([[-0.16595599,  0.44064899, -0.99977125, -0.39533485],\n",
       "       [-0.70648822, -0.81532281, -0.62747958, -0.30887855],\n",
       "       [-0.20646505,  0.07763347, -0.16161097,  0.370439  ]])"
      ]
     },
     "execution_count": 140,
     "metadata": {},
     "output_type": "execute_result"
    }
   ],
   "source": [
    "weight0"
   ]
  },
  {
   "cell_type": "code",
   "execution_count": 141,
   "metadata": {},
   "outputs": [
    {
     "data": {
      "text/plain": [
       "array([[-0.5910955 ],\n",
       "       [ 0.75623487],\n",
       "       [-0.94522481],\n",
       "       [ 0.34093502]])"
      ]
     },
     "execution_count": 141,
     "metadata": {},
     "output_type": "execute_result"
    }
   ],
   "source": [
    "weight1"
   ]
  },
  {
   "cell_type": "code",
   "execution_count": 142,
   "metadata": {},
   "outputs": [],
   "source": [
    "def nonlin(x, deriv = False):\n",
    "    if(deriv == True):\n",
    "        return x*(1-x)\n",
    "    \n",
    "    return 1/(1+np.exp(-x))\n",
    "    "
   ]
  },
  {
   "cell_type": "code",
   "execution_count": 143,
   "metadata": {},
   "outputs": [
    {
     "name": "stdout",
     "output_type": "stream",
     "text": [
      "Error is 0.496410031903\n",
      "Error is 0.500046151259\n",
      "Error is 0.500022328816\n",
      "Error is 0.500014565446\n",
      "Error is 0.500010692848\n",
      "Error is 0.500008345812\n",
      "Error is 0.500006742144\n",
      "Error is 0.500005542731\n",
      "Error is 0.500004567992\n",
      "Error is 0.500003698668\n",
      "Error is 0.500002822723\n",
      "Error is 0.500001770328\n",
      "Error is 0.500000117259\n",
      "Error is 0.499995967084\n",
      "Error is 0.499932717748\n",
      "Error is 0.500002323795\n",
      "Error is 0.500002197084\n",
      "Error is 0.500002083823\n",
      "Error is 0.500001981876\n",
      "Error is 0.500001889545\n",
      "Error is 0.500001805462\n",
      "Error is 0.50000172851\n",
      "Error is 0.50000165777\n",
      "Error is 0.500001592478\n",
      "Error is 0.50000153199\n",
      "Error is 0.500001475766\n",
      "Error is 0.500001423342\n",
      "Error is 0.500001374321\n",
      "Error is 0.500001328362\n",
      "Error is 0.500001285167\n",
      "Error is 0.500001244478\n",
      "Error is 0.500001206067\n",
      "Error is 0.500001169735\n",
      "Error is 0.500001135304\n",
      "Error is 0.500001102618\n",
      "Error is 0.500001071537\n",
      "Error is 0.500001041936\n",
      "Error is 0.500001013701\n",
      "Error is 0.500000986733\n",
      "Error is 0.50000096094\n",
      "Error is 0.500000936239\n",
      "Error is 0.500000912555\n",
      "Error is 0.50000088982\n",
      "Error is 0.50000086797\n",
      "Error is 0.500000846951\n",
      "Error is 0.500000826708\n",
      "Error is 0.500000807193\n",
      "Error is 0.500000788363\n",
      "Error is 0.500000770177\n",
      "Error is 0.500000752595\n",
      "Error is 0.500000735585\n",
      "Error is 0.500000719111\n",
      "Error is 0.500000703146\n",
      "Error is 0.500000687659\n",
      "Error is 0.500000672624\n",
      "Error is 0.500000658017\n",
      "Error is 0.500000643814\n",
      "Error is 0.500000629994\n",
      "Error is 0.500000616534\n",
      "Error is 0.500000603417\n",
      "Error is 0.500000590623\n",
      "Error is 0.500000578134\n",
      "Error is 0.500000565934\n",
      "Error is 0.500000554007\n",
      "Error is 0.500000542337\n",
      "Error is 0.500000530909\n",
      "Error is 0.500000519708\n",
      "Error is 0.500000508722\n",
      "Error is 0.500000497936\n",
      "Error is 0.500000487337\n",
      "Error is 0.500000476912\n",
      "Error is 0.500000466648\n",
      "Error is 0.500000456533\n",
      "Error is 0.500000446554\n",
      "Error is 0.500000436698\n",
      "Error is 0.500000426952\n",
      "Error is 0.500000417305\n",
      "Error is 0.500000407742\n",
      "Error is 0.500000398251\n",
      "Error is 0.500000388817\n",
      "Error is 0.500000379428\n",
      "Error is 0.500000370066\n",
      "Error is 0.500000360719\n",
      "Error is 0.500000351369\n",
      "Error is 0.500000341999\n",
      "Error is 0.500000332592\n",
      "Error is 0.500000323128\n",
      "Error is 0.500000313586\n",
      "Error is 0.500000303944\n",
      "Error is 0.500000294178\n",
      "Error is 0.500000284262\n",
      "Error is 0.500000274166\n",
      "Error is 0.50000026386\n",
      "Error is 0.500000253308\n",
      "Error is 0.500000242473\n",
      "Error is 0.500000231309\n",
      "Error is 0.500000219771\n",
      "Error is 0.500000207803\n",
      "Error is 0.500000195344\n",
      "Error is 0.500000182324\n"
     ]
    }
   ],
   "source": [
    "for j in range(10000):\n",
    "    layer0 = X\n",
    "    layer1 = nonlin(np.dot(layer0,weight0))\n",
    "    layer2 = nonlin(np.dot(layer1,weight1))\n",
    "    \n",
    "#     if(j%100 ==0):\n",
    "#         print(layer0)\n",
    "#         print(layer1)\n",
    "#         print(layer2)\n",
    "    \n",
    "    layer2_error = (Y-layer2)\n",
    "#     print(layer2_error)\n",
    "    if(j%100 ==0):\n",
    "        print(\"Error is\", np.mean(abs(layer2_error)))\n",
    "    \n",
    "    layer2_delta = layer2_error*nonlin(layer2, deriv = True)\n",
    "    layer1_error = layer2_delta.dot(weight1.T)\n",
    "    layer1_delta = layer1_error*nonlin(layer1, deriv = True)\n",
    "    \n",
    "#     if(j%100 ==0):\n",
    "#         print(layer2_delta)\n",
    "#         print(layer1_error)\n",
    "#         print(layer1_delta)\n",
    "    \n",
    "    \n",
    "    weight1 += layer1.T.dot(layer2_delta)*200\n",
    "    weight0 += layer0.T.dot(layer1_delta)*200\n",
    "    "
   ]
  },
  {
   "cell_type": "code",
   "execution_count": 134,
   "metadata": {},
   "outputs": [],
   "source": [
    "X_test=[[1,0,1]]\n",
    "y = nonlin(np.dot(X_test, weight0))"
   ]
  },
  {
   "cell_type": "code",
   "execution_count": 125,
   "metadata": {},
   "outputs": [],
   "source": [
    "y_ans = nonlin(np.dot(y, weight1))"
   ]
  },
  {
   "cell_type": "code",
   "execution_count": 126,
   "metadata": {},
   "outputs": [
    {
     "data": {
      "text/plain": [
       "array([[ 0.96202137]])"
      ]
     },
     "execution_count": 126,
     "metadata": {},
     "output_type": "execute_result"
    }
   ],
   "source": [
    "y_ans"
   ]
  }
 ],
 "metadata": {
  "kernelspec": {
   "display_name": "Python 3",
   "language": "python",
   "name": "python3"
  },
  "language_info": {
   "codemirror_mode": {
    "name": "ipython",
    "version": 3
   },
   "file_extension": ".py",
   "mimetype": "text/x-python",
   "name": "python",
   "nbconvert_exporter": "python",
   "pygments_lexer": "ipython3",
   "version": "3.6.1"
  }
 },
 "nbformat": 4,
 "nbformat_minor": 2
}
